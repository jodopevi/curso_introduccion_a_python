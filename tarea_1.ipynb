{
  "nbformat": 4,
  "nbformat_minor": 0,
  "metadata": {
    "colab": {
      "name": "tarea_1.ipynb",
      "provenance": [],
      "collapsed_sections": [],
      "authorship_tag": "ABX9TyOu8imiS/LKTxtcEFhkh3bt",
      "include_colab_link": true
    },
    "kernelspec": {
      "name": "python3",
      "display_name": "Python 3"
    }
  },
  "cells": [
    {
      "cell_type": "markdown",
      "metadata": {
        "id": "view-in-github",
        "colab_type": "text"
      },
      "source": [
        "<a href=\"https://colab.research.google.com/github/jodopevi/curso_introduccion_a_python/blob/main/tarea_1.ipynb\" target=\"_parent\"><img src=\"https://colab.research.google.com/assets/colab-badge.svg\" alt=\"Open In Colab\"/></a>"
      ]
    },
    {
      "cell_type": "code",
      "metadata": {
        "colab": {
          "base_uri": "https://localhost:8080/"
        },
        "id": "LGXhx1iaBKT-",
        "outputId": "71f30df0-2d3f-4ea3-d4a6-1daeb188fba9"
      },
      "source": [
        "# Tarea 1: Concatenar nombre completo\n",
        "\n",
        "# Solicitando al usuario el nombre completo\n",
        "primer_nombre = input(\"¿Cual es tu primer nombre? \")\n",
        "segundo_nombre = input(\"¿Cual es tu segundo nombre \")\n",
        "primer_apellido = input(\"¿Cual es tu primer apellido \")\n",
        "segundo_apellido = input(\"¿Cual es tu segundo apellido \")\n",
        "\n",
        "# Imprimiendo en pantalla el nombre completo\n",
        "print(\"Mi nombre completo es:\", primer_nombre, segundo_nombre, primer_apellido, segundo_apellido)"
      ],
      "execution_count": 2,
      "outputs": [
        {
          "output_type": "stream",
          "text": [
            "¿Cual es tu primer nombre? José\n",
            "¿Cual es tu segundo nombre Domingo\n",
            "¿Cual es tu primer apellido Peña\n",
            "¿Cual es tu segundo apellido Vidal\n",
            "Mi nombre completo es: José Domingo Peña Vidal\n"
          ],
          "name": "stdout"
        }
      ]
    }
  ]
}