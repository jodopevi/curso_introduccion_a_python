{
  "nbformat": 4,
  "nbformat_minor": 0,
  "metadata": {
    "colab": {
      "name": "tarea_2.ipynb",
      "provenance": [],
      "collapsed_sections": [],
      "authorship_tag": "ABX9TyP9jM4AmZw9qjM8BuKQ3JfA",
      "include_colab_link": true
    },
    "kernelspec": {
      "name": "python3",
      "display_name": "Python 3"
    }
  },
  "cells": [
    {
      "cell_type": "markdown",
      "metadata": {
        "id": "view-in-github",
        "colab_type": "text"
      },
      "source": [
        "<a href=\"https://colab.research.google.com/github/jodopevi/curso_introduccion_a_python/blob/main/tarea_2.ipynb\" target=\"_parent\"><img src=\"https://colab.research.google.com/assets/colab-badge.svg\" alt=\"Open In Colab\"/></a>"
      ]
    },
    {
      "cell_type": "markdown",
      "metadata": {
        "id": "DKtxvJN5LuoO"
      },
      "source": [
        "# Tarea 2"
      ]
    },
    {
      "cell_type": "code",
      "metadata": {
        "colab": {
          "base_uri": "https://localhost:8080/"
        },
        "id": "LndvTaQjLxZF",
        "outputId": "685b0c23-e7dd-474f-abb8-f27c85c466a6"
      },
      "source": [
        "Automovil1 = {}\n",
        "\n",
        "Automovil1.update({'Placa':str(input(\"Introduce la placa del automovil: \"))})\n",
        "Automovil1.update({'Modelo':str(input(\"Introduce el modelo del automovil: \"))})\n",
        "Automovil1.update({'Año':int(input(\"Introduce el año del automovil: \"))})\n",
        "\n",
        "Automovil2 = {}\n",
        "\n",
        "Automovil2.update({'Placa':str(input(\"Introduce la placa del automovil: \"))})\n",
        "Automovil2.update({'Modelo':str(input(\"Introduce el modelo del automovil: \"))})\n",
        "Automovil2.update({'Año':int(input(\"Introduce el año del automovil: \"))})\n",
        "\n",
        "\n",
        "Automoviles = [Automovil1,\n",
        "               Automovil2\n",
        "              ]\n",
        "\n",
        "print(Automoviles)\n"
      ],
      "execution_count": 20,
      "outputs": [
        {
          "output_type": "stream",
          "text": [
            "Introduce la placa del automovil: K40ADE\n",
            "Introduce el modelo del automovil: FORD IKON\n",
            "Introduce el año del automovil: 2015\n",
            "Introduce la placa del automovil: MYB9420\n",
            "Introduce el modelo del automovil: NISSAN SENTRA\n",
            "Introduce el año del automovil: 2017\n",
            "[{'Placa': 'K40ADE', 'Modelo': 'FORD IKON', 'Año': 2015}, {'Placa': 'MYB9420', 'Modelo': 'NISSAN SENTRA', 'Año': 2017}]\n"
          ],
          "name": "stdout"
        }
      ]
    },
    {
      "cell_type": "code",
      "metadata": {
        "colab": {
          "base_uri": "https://localhost:8080/"
        },
        "id": "ter-v8WOWI9D",
        "outputId": "4a1e7994-91cb-4329-ce51-7e3c3ee0ead7"
      },
      "source": [
        "print(Automoviles[0]['Placa'])\n",
        "print(Automoviles[0]['Modelo'])\n",
        "print(Automoviles[0]['Año'])"
      ],
      "execution_count": 21,
      "outputs": [
        {
          "output_type": "stream",
          "text": [
            "K40ADE\n",
            "FORD IKON\n",
            "2015\n"
          ],
          "name": "stdout"
        }
      ]
    },
    {
      "cell_type": "code",
      "metadata": {
        "colab": {
          "base_uri": "https://localhost:8080/"
        },
        "id": "1Y7S80JrWR8D",
        "outputId": "e4a1144c-b7da-4a6c-b40a-93dd8d7dccb1"
      },
      "source": [
        "print(Automoviles[1]['Placa'])\n",
        "print(Automoviles[1]['Modelo'])\n",
        "print(Automoviles[1]['Año'])"
      ],
      "execution_count": 22,
      "outputs": [
        {
          "output_type": "stream",
          "text": [
            "MYB9420\n",
            "NISSAN SENTRA\n",
            "2017\n"
          ],
          "name": "stdout"
        }
      ]
    }
  ]
}